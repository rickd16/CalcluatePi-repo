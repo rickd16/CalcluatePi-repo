{
 "cells": [
  {
   "cell_type": "code",
   "execution_count": 10,
   "metadata": {},
   "outputs": [],
   "source": [
    "# Estimate pi given a random (0,1)\n",
    "\n",
    "import random\n",
    "\n",
    "\n",
    "def estimate_pi(n):                 # Create a function to calc pi\n",
    "    num_point_circle = 0            # Set initial value to 0\n",
    "    num_point_total  = 0            # Set initial value to 0\n",
    "\n",
    "    for _ in range (n):             # Create a for loop, calculate for \"n\" iterations\n",
    "        x = random.uniform(0,1)     # The uniform() method returns a random floating number between the two specified numbers (both included).\n",
    "        y = random.uniform(0,1)     # The uniform() method returns a random floating number between the two specified numbers (both included).\n",
    "        distance = x**2 + y**2\n",
    "        if distance <=1:\n",
    "            num_point_circle +=1\n",
    "        num_point_total +=1\n",
    "\n",
    "\n",
    "    return 4 * num_point_circle/num_point_total"
   ]
  },
  {
   "cell_type": "code",
   "execution_count": 15,
   "metadata": {},
   "outputs": [
    {
     "data": {
      "text/plain": [
       "3.14232"
      ]
     },
     "execution_count": 15,
     "metadata": {},
     "output_type": "execute_result"
    }
   ],
   "source": [
    "estimate_pi(600000)"
   ]
  },
  {
   "cell_type": "code",
   "execution_count": null,
   "metadata": {},
   "outputs": [],
   "source": []
  }
 ],
 "metadata": {
  "kernelspec": {
   "display_name": "Python 3.8.10 64-bit",
   "language": "python",
   "name": "python3"
  },
  "language_info": {
   "codemirror_mode": {
    "name": "ipython",
    "version": 3
   },
   "file_extension": ".py",
   "mimetype": "text/x-python",
   "name": "python",
   "nbconvert_exporter": "python",
   "pygments_lexer": "ipython3",
   "version": "3.8.10"
  },
  "vscode": {
   "interpreter": {
    "hash": "31f2aee4e71d21fbe5cf8b01ff0e069b9275f58929596ceb00d14d90e3e16cd6"
   }
  }
 },
 "nbformat": 4,
 "nbformat_minor": 4
}
